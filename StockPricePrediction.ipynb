{
  "nbformat": 4,
  "nbformat_minor": 0,
  "metadata": {
    "colab": {
      "provenance": []
    },
    "kernelspec": {
      "name": "python3",
      "display_name": "Python 3"
    },
    "language_info": {
      "name": "python"
    }
  },
  "cells": [
    {
      "cell_type": "markdown",
      "source": [
        "### Nama : Alisha Zahra Saadiya\n",
        "### NIM : 2501971742\n",
        "\n",
        "Case Number = 4 + 2 = 6\n",
        "\n",
        "Case 1 : Bidirectual LSTM"
      ],
      "metadata": {
        "id": "k2lglLvOEMsa"
      }
    },
    {
      "cell_type": "code",
      "source": [
        "!pip install tensorflow"
      ],
      "metadata": {
        "colab": {
          "base_uri": "https://localhost:8080/"
        },
        "id": "_oaHTv-IXrHr",
        "outputId": "158ff94a-5620-4de7-c579-ca3e43a10b8b"
      },
      "execution_count": null,
      "outputs": [
        {
          "output_type": "stream",
          "name": "stdout",
          "text": [
            "Requirement already satisfied: tensorflow in /usr/local/lib/python3.10/dist-packages (2.15.0)\n",
            "Requirement already satisfied: absl-py>=1.0.0 in /usr/local/lib/python3.10/dist-packages (from tensorflow) (1.4.0)\n",
            "Requirement already satisfied: astunparse>=1.6.0 in /usr/local/lib/python3.10/dist-packages (from tensorflow) (1.6.3)\n",
            "Requirement already satisfied: flatbuffers>=23.5.26 in /usr/local/lib/python3.10/dist-packages (from tensorflow) (23.5.26)\n",
            "Requirement already satisfied: gast!=0.5.0,!=0.5.1,!=0.5.2,>=0.2.1 in /usr/local/lib/python3.10/dist-packages (from tensorflow) (0.5.4)\n",
            "Requirement already satisfied: google-pasta>=0.1.1 in /usr/local/lib/python3.10/dist-packages (from tensorflow) (0.2.0)\n",
            "Requirement already satisfied: h5py>=2.9.0 in /usr/local/lib/python3.10/dist-packages (from tensorflow) (3.9.0)\n",
            "Requirement already satisfied: libclang>=13.0.0 in /usr/local/lib/python3.10/dist-packages (from tensorflow) (16.0.6)\n",
            "Requirement already satisfied: ml-dtypes~=0.2.0 in /usr/local/lib/python3.10/dist-packages (from tensorflow) (0.2.0)\n",
            "Requirement already satisfied: numpy<2.0.0,>=1.23.5 in /usr/local/lib/python3.10/dist-packages (from tensorflow) (1.23.5)\n",
            "Requirement already satisfied: opt-einsum>=2.3.2 in /usr/local/lib/python3.10/dist-packages (from tensorflow) (3.3.0)\n",
            "Requirement already satisfied: packaging in /usr/local/lib/python3.10/dist-packages (from tensorflow) (23.2)\n",
            "Requirement already satisfied: protobuf!=4.21.0,!=4.21.1,!=4.21.2,!=4.21.3,!=4.21.4,!=4.21.5,<5.0.0dev,>=3.20.3 in /usr/local/lib/python3.10/dist-packages (from tensorflow) (3.20.3)\n",
            "Requirement already satisfied: setuptools in /usr/local/lib/python3.10/dist-packages (from tensorflow) (67.7.2)\n",
            "Requirement already satisfied: six>=1.12.0 in /usr/local/lib/python3.10/dist-packages (from tensorflow) (1.16.0)\n",
            "Requirement already satisfied: termcolor>=1.1.0 in /usr/local/lib/python3.10/dist-packages (from tensorflow) (2.4.0)\n",
            "Requirement already satisfied: typing-extensions>=3.6.6 in /usr/local/lib/python3.10/dist-packages (from tensorflow) (4.5.0)\n",
            "Requirement already satisfied: wrapt<1.15,>=1.11.0 in /usr/local/lib/python3.10/dist-packages (from tensorflow) (1.14.1)\n",
            "Requirement already satisfied: tensorflow-io-gcs-filesystem>=0.23.1 in /usr/local/lib/python3.10/dist-packages (from tensorflow) (0.35.0)\n",
            "Requirement already satisfied: grpcio<2.0,>=1.24.3 in /usr/local/lib/python3.10/dist-packages (from tensorflow) (1.60.0)\n",
            "Requirement already satisfied: tensorboard<2.16,>=2.15 in /usr/local/lib/python3.10/dist-packages (from tensorflow) (2.15.1)\n",
            "Requirement already satisfied: tensorflow-estimator<2.16,>=2.15.0 in /usr/local/lib/python3.10/dist-packages (from tensorflow) (2.15.0)\n",
            "Requirement already satisfied: keras<2.16,>=2.15.0 in /usr/local/lib/python3.10/dist-packages (from tensorflow) (2.15.0)\n",
            "Requirement already satisfied: wheel<1.0,>=0.23.0 in /usr/local/lib/python3.10/dist-packages (from astunparse>=1.6.0->tensorflow) (0.42.0)\n",
            "Requirement already satisfied: google-auth<3,>=1.6.3 in /usr/local/lib/python3.10/dist-packages (from tensorboard<2.16,>=2.15->tensorflow) (2.17.3)\n",
            "Requirement already satisfied: google-auth-oauthlib<2,>=0.5 in /usr/local/lib/python3.10/dist-packages (from tensorboard<2.16,>=2.15->tensorflow) (1.2.0)\n",
            "Requirement already satisfied: markdown>=2.6.8 in /usr/local/lib/python3.10/dist-packages (from tensorboard<2.16,>=2.15->tensorflow) (3.5.2)\n",
            "Requirement already satisfied: requests<3,>=2.21.0 in /usr/local/lib/python3.10/dist-packages (from tensorboard<2.16,>=2.15->tensorflow) (2.31.0)\n",
            "Requirement already satisfied: tensorboard-data-server<0.8.0,>=0.7.0 in /usr/local/lib/python3.10/dist-packages (from tensorboard<2.16,>=2.15->tensorflow) (0.7.2)\n",
            "Requirement already satisfied: werkzeug>=1.0.1 in /usr/local/lib/python3.10/dist-packages (from tensorboard<2.16,>=2.15->tensorflow) (3.0.1)\n",
            "Requirement already satisfied: cachetools<6.0,>=2.0.0 in /usr/local/lib/python3.10/dist-packages (from google-auth<3,>=1.6.3->tensorboard<2.16,>=2.15->tensorflow) (5.3.2)\n",
            "Requirement already satisfied: pyasn1-modules>=0.2.1 in /usr/local/lib/python3.10/dist-packages (from google-auth<3,>=1.6.3->tensorboard<2.16,>=2.15->tensorflow) (0.3.0)\n",
            "Requirement already satisfied: rsa<5,>=3.1.4 in /usr/local/lib/python3.10/dist-packages (from google-auth<3,>=1.6.3->tensorboard<2.16,>=2.15->tensorflow) (4.9)\n",
            "Requirement already satisfied: requests-oauthlib>=0.7.0 in /usr/local/lib/python3.10/dist-packages (from google-auth-oauthlib<2,>=0.5->tensorboard<2.16,>=2.15->tensorflow) (1.3.1)\n",
            "Requirement already satisfied: charset-normalizer<4,>=2 in /usr/local/lib/python3.10/dist-packages (from requests<3,>=2.21.0->tensorboard<2.16,>=2.15->tensorflow) (3.3.2)\n",
            "Requirement already satisfied: idna<4,>=2.5 in /usr/local/lib/python3.10/dist-packages (from requests<3,>=2.21.0->tensorboard<2.16,>=2.15->tensorflow) (3.6)\n",
            "Requirement already satisfied: urllib3<3,>=1.21.1 in /usr/local/lib/python3.10/dist-packages (from requests<3,>=2.21.0->tensorboard<2.16,>=2.15->tensorflow) (2.0.7)\n",
            "Requirement already satisfied: certifi>=2017.4.17 in /usr/local/lib/python3.10/dist-packages (from requests<3,>=2.21.0->tensorboard<2.16,>=2.15->tensorflow) (2023.11.17)\n",
            "Requirement already satisfied: MarkupSafe>=2.1.1 in /usr/local/lib/python3.10/dist-packages (from werkzeug>=1.0.1->tensorboard<2.16,>=2.15->tensorflow) (2.1.3)\n",
            "Requirement already satisfied: pyasn1<0.6.0,>=0.4.6 in /usr/local/lib/python3.10/dist-packages (from pyasn1-modules>=0.2.1->google-auth<3,>=1.6.3->tensorboard<2.16,>=2.15->tensorflow) (0.5.1)\n",
            "Requirement already satisfied: oauthlib>=3.0.0 in /usr/local/lib/python3.10/dist-packages (from requests-oauthlib>=0.7.0->google-auth-oauthlib<2,>=0.5->tensorboard<2.16,>=2.15->tensorflow) (3.2.2)\n"
          ]
        }
      ]
    },
    {
      "cell_type": "code",
      "execution_count": null,
      "metadata": {
        "id": "nVsNurhODa9B"
      },
      "outputs": [],
      "source": [
        "import numpy as np\n",
        "import pandas as pd\n",
        "import matplotlib.pyplot as plt\n",
        "from sklearn.preprocessing import MinMaxScaler\n",
        "from keras.models import Sequential\n",
        "from tensorflow.keras.models import Model\n",
        "from tensorflow.keras.layers import LSTM, Dense, Dropout, Input, Bidirectional\n",
        "from tensorflow.keras.callbacks import EarlyStopping, ModelCheckpoint\n",
        "from sklearn.metrics import mean_squared_error, mean_absolute_error, r2_score"
      ]
    },
    {
      "cell_type": "markdown",
      "source": [
        "# 1. a.\n",
        "Before delving into the data analysis, it is essential to conduct an initial exploration of the dataset to comprehend the challenges inherent within it. The provided dataset is a time series, and it necessitates appropriate preprocessing to resolve any issues that may be present. The time series data should then be divided into two segments: input and output. This division should be structured with a window size of 5 and a horizon of 1, effectively setting up the framework for subsequent analysis."
      ],
      "metadata": {
        "id": "X0rufoi0FVCL"
      }
    },
    {
      "cell_type": "markdown",
      "source": [
        "## Data Exploration"
      ],
      "metadata": {
        "id": "GMxE32YLY368"
      }
    },
    {
      "cell_type": "code",
      "source": [
        "data = pd.read_csv(\"X.csv\")\n",
        "data.head()"
      ],
      "metadata": {
        "colab": {
          "base_uri": "https://localhost:8080/",
          "height": 206
        },
        "id": "W2XkmD_9NCx0",
        "outputId": "d99db27f-cf56-4497-b74f-9af7e2166de8"
      },
      "execution_count": null,
      "outputs": [
        {
          "output_type": "execute_result",
          "data": {
            "text/plain": [
              "         Date        Open        High         Low       Close   Adj Close  \\\n",
              "0  2005-09-29  432.588074  436.787964  407.388763  432.588074  304.904572   \n",
              "1  2005-09-30  457.787384  457.787384  432.588074  457.787384  322.666016   \n",
              "2  2005-10-03  470.387024  474.586914  440.987854  470.387024  331.546692   \n",
              "3  2005-10-04  474.586914  482.986694  466.187164  474.586914  334.506927   \n",
              "4  2005-10-05  482.986694  482.986694  466.187164  482.986694  340.427429   \n",
              "\n",
              "        Volume  \n",
              "0   76180670.0  \n",
              "1  105493978.0  \n",
              "2   59712955.0  \n",
              "3   56236668.0  \n",
              "4   31319315.0  "
            ],
            "text/html": [
              "\n",
              "  <div id=\"df-2d5c47c0-24ff-444f-acf1-a08fba7dc7af\" class=\"colab-df-container\">\n",
              "    <div>\n",
              "<style scoped>\n",
              "    .dataframe tbody tr th:only-of-type {\n",
              "        vertical-align: middle;\n",
              "    }\n",
              "\n",
              "    .dataframe tbody tr th {\n",
              "        vertical-align: top;\n",
              "    }\n",
              "\n",
              "    .dataframe thead th {\n",
              "        text-align: right;\n",
              "    }\n",
              "</style>\n",
              "<table border=\"1\" class=\"dataframe\">\n",
              "  <thead>\n",
              "    <tr style=\"text-align: right;\">\n",
              "      <th></th>\n",
              "      <th>Date</th>\n",
              "      <th>Open</th>\n",
              "      <th>High</th>\n",
              "      <th>Low</th>\n",
              "      <th>Close</th>\n",
              "      <th>Adj Close</th>\n",
              "      <th>Volume</th>\n",
              "    </tr>\n",
              "  </thead>\n",
              "  <tbody>\n",
              "    <tr>\n",
              "      <th>0</th>\n",
              "      <td>2005-09-29</td>\n",
              "      <td>432.588074</td>\n",
              "      <td>436.787964</td>\n",
              "      <td>407.388763</td>\n",
              "      <td>432.588074</td>\n",
              "      <td>304.904572</td>\n",
              "      <td>76180670.0</td>\n",
              "    </tr>\n",
              "    <tr>\n",
              "      <th>1</th>\n",
              "      <td>2005-09-30</td>\n",
              "      <td>457.787384</td>\n",
              "      <td>457.787384</td>\n",
              "      <td>432.588074</td>\n",
              "      <td>457.787384</td>\n",
              "      <td>322.666016</td>\n",
              "      <td>105493978.0</td>\n",
              "    </tr>\n",
              "    <tr>\n",
              "      <th>2</th>\n",
              "      <td>2005-10-03</td>\n",
              "      <td>470.387024</td>\n",
              "      <td>474.586914</td>\n",
              "      <td>440.987854</td>\n",
              "      <td>470.387024</td>\n",
              "      <td>331.546692</td>\n",
              "      <td>59712955.0</td>\n",
              "    </tr>\n",
              "    <tr>\n",
              "      <th>3</th>\n",
              "      <td>2005-10-04</td>\n",
              "      <td>474.586914</td>\n",
              "      <td>482.986694</td>\n",
              "      <td>466.187164</td>\n",
              "      <td>474.586914</td>\n",
              "      <td>334.506927</td>\n",
              "      <td>56236668.0</td>\n",
              "    </tr>\n",
              "    <tr>\n",
              "      <th>4</th>\n",
              "      <td>2005-10-05</td>\n",
              "      <td>482.986694</td>\n",
              "      <td>482.986694</td>\n",
              "      <td>466.187164</td>\n",
              "      <td>482.986694</td>\n",
              "      <td>340.427429</td>\n",
              "      <td>31319315.0</td>\n",
              "    </tr>\n",
              "  </tbody>\n",
              "</table>\n",
              "</div>\n",
              "    <div class=\"colab-df-buttons\">\n",
              "\n",
              "  <div class=\"colab-df-container\">\n",
              "    <button class=\"colab-df-convert\" onclick=\"convertToInteractive('df-2d5c47c0-24ff-444f-acf1-a08fba7dc7af')\"\n",
              "            title=\"Convert this dataframe to an interactive table.\"\n",
              "            style=\"display:none;\">\n",
              "\n",
              "  <svg xmlns=\"http://www.w3.org/2000/svg\" height=\"24px\" viewBox=\"0 -960 960 960\">\n",
              "    <path d=\"M120-120v-720h720v720H120Zm60-500h600v-160H180v160Zm220 220h160v-160H400v160Zm0 220h160v-160H400v160ZM180-400h160v-160H180v160Zm440 0h160v-160H620v160ZM180-180h160v-160H180v160Zm440 0h160v-160H620v160Z\"/>\n",
              "  </svg>\n",
              "    </button>\n",
              "\n",
              "  <style>\n",
              "    .colab-df-container {\n",
              "      display:flex;\n",
              "      gap: 12px;\n",
              "    }\n",
              "\n",
              "    .colab-df-convert {\n",
              "      background-color: #E8F0FE;\n",
              "      border: none;\n",
              "      border-radius: 50%;\n",
              "      cursor: pointer;\n",
              "      display: none;\n",
              "      fill: #1967D2;\n",
              "      height: 32px;\n",
              "      padding: 0 0 0 0;\n",
              "      width: 32px;\n",
              "    }\n",
              "\n",
              "    .colab-df-convert:hover {\n",
              "      background-color: #E2EBFA;\n",
              "      box-shadow: 0px 1px 2px rgba(60, 64, 67, 0.3), 0px 1px 3px 1px rgba(60, 64, 67, 0.15);\n",
              "      fill: #174EA6;\n",
              "    }\n",
              "\n",
              "    .colab-df-buttons div {\n",
              "      margin-bottom: 4px;\n",
              "    }\n",
              "\n",
              "    [theme=dark] .colab-df-convert {\n",
              "      background-color: #3B4455;\n",
              "      fill: #D2E3FC;\n",
              "    }\n",
              "\n",
              "    [theme=dark] .colab-df-convert:hover {\n",
              "      background-color: #434B5C;\n",
              "      box-shadow: 0px 1px 3px 1px rgba(0, 0, 0, 0.15);\n",
              "      filter: drop-shadow(0px 1px 2px rgba(0, 0, 0, 0.3));\n",
              "      fill: #FFFFFF;\n",
              "    }\n",
              "  </style>\n",
              "\n",
              "    <script>\n",
              "      const buttonEl =\n",
              "        document.querySelector('#df-2d5c47c0-24ff-444f-acf1-a08fba7dc7af button.colab-df-convert');\n",
              "      buttonEl.style.display =\n",
              "        google.colab.kernel.accessAllowed ? 'block' : 'none';\n",
              "\n",
              "      async function convertToInteractive(key) {\n",
              "        const element = document.querySelector('#df-2d5c47c0-24ff-444f-acf1-a08fba7dc7af');\n",
              "        const dataTable =\n",
              "          await google.colab.kernel.invokeFunction('convertToInteractive',\n",
              "                                                    [key], {});\n",
              "        if (!dataTable) return;\n",
              "\n",
              "        const docLinkHtml = 'Like what you see? Visit the ' +\n",
              "          '<a target=\"_blank\" href=https://colab.research.google.com/notebooks/data_table.ipynb>data table notebook</a>'\n",
              "          + ' to learn more about interactive tables.';\n",
              "        element.innerHTML = '';\n",
              "        dataTable['output_type'] = 'display_data';\n",
              "        await google.colab.output.renderOutput(dataTable, element);\n",
              "        const docLink = document.createElement('div');\n",
              "        docLink.innerHTML = docLinkHtml;\n",
              "        element.appendChild(docLink);\n",
              "      }\n",
              "    </script>\n",
              "  </div>\n",
              "\n",
              "\n",
              "<div id=\"df-e9f08e9a-3785-4a2a-92f0-4d6681d6263d\">\n",
              "  <button class=\"colab-df-quickchart\" onclick=\"quickchart('df-e9f08e9a-3785-4a2a-92f0-4d6681d6263d')\"\n",
              "            title=\"Suggest charts\"\n",
              "            style=\"display:none;\">\n",
              "\n",
              "<svg xmlns=\"http://www.w3.org/2000/svg\" height=\"24px\"viewBox=\"0 0 24 24\"\n",
              "     width=\"24px\">\n",
              "    <g>\n",
              "        <path d=\"M19 3H5c-1.1 0-2 .9-2 2v14c0 1.1.9 2 2 2h14c1.1 0 2-.9 2-2V5c0-1.1-.9-2-2-2zM9 17H7v-7h2v7zm4 0h-2V7h2v10zm4 0h-2v-4h2v4z\"/>\n",
              "    </g>\n",
              "</svg>\n",
              "  </button>\n",
              "\n",
              "<style>\n",
              "  .colab-df-quickchart {\n",
              "      --bg-color: #E8F0FE;\n",
              "      --fill-color: #1967D2;\n",
              "      --hover-bg-color: #E2EBFA;\n",
              "      --hover-fill-color: #174EA6;\n",
              "      --disabled-fill-color: #AAA;\n",
              "      --disabled-bg-color: #DDD;\n",
              "  }\n",
              "\n",
              "  [theme=dark] .colab-df-quickchart {\n",
              "      --bg-color: #3B4455;\n",
              "      --fill-color: #D2E3FC;\n",
              "      --hover-bg-color: #434B5C;\n",
              "      --hover-fill-color: #FFFFFF;\n",
              "      --disabled-bg-color: #3B4455;\n",
              "      --disabled-fill-color: #666;\n",
              "  }\n",
              "\n",
              "  .colab-df-quickchart {\n",
              "    background-color: var(--bg-color);\n",
              "    border: none;\n",
              "    border-radius: 50%;\n",
              "    cursor: pointer;\n",
              "    display: none;\n",
              "    fill: var(--fill-color);\n",
              "    height: 32px;\n",
              "    padding: 0;\n",
              "    width: 32px;\n",
              "  }\n",
              "\n",
              "  .colab-df-quickchart:hover {\n",
              "    background-color: var(--hover-bg-color);\n",
              "    box-shadow: 0 1px 2px rgba(60, 64, 67, 0.3), 0 1px 3px 1px rgba(60, 64, 67, 0.15);\n",
              "    fill: var(--button-hover-fill-color);\n",
              "  }\n",
              "\n",
              "  .colab-df-quickchart-complete:disabled,\n",
              "  .colab-df-quickchart-complete:disabled:hover {\n",
              "    background-color: var(--disabled-bg-color);\n",
              "    fill: var(--disabled-fill-color);\n",
              "    box-shadow: none;\n",
              "  }\n",
              "\n",
              "  .colab-df-spinner {\n",
              "    border: 2px solid var(--fill-color);\n",
              "    border-color: transparent;\n",
              "    border-bottom-color: var(--fill-color);\n",
              "    animation:\n",
              "      spin 1s steps(1) infinite;\n",
              "  }\n",
              "\n",
              "  @keyframes spin {\n",
              "    0% {\n",
              "      border-color: transparent;\n",
              "      border-bottom-color: var(--fill-color);\n",
              "      border-left-color: var(--fill-color);\n",
              "    }\n",
              "    20% {\n",
              "      border-color: transparent;\n",
              "      border-left-color: var(--fill-color);\n",
              "      border-top-color: var(--fill-color);\n",
              "    }\n",
              "    30% {\n",
              "      border-color: transparent;\n",
              "      border-left-color: var(--fill-color);\n",
              "      border-top-color: var(--fill-color);\n",
              "      border-right-color: var(--fill-color);\n",
              "    }\n",
              "    40% {\n",
              "      border-color: transparent;\n",
              "      border-right-color: var(--fill-color);\n",
              "      border-top-color: var(--fill-color);\n",
              "    }\n",
              "    60% {\n",
              "      border-color: transparent;\n",
              "      border-right-color: var(--fill-color);\n",
              "    }\n",
              "    80% {\n",
              "      border-color: transparent;\n",
              "      border-right-color: var(--fill-color);\n",
              "      border-bottom-color: var(--fill-color);\n",
              "    }\n",
              "    90% {\n",
              "      border-color: transparent;\n",
              "      border-bottom-color: var(--fill-color);\n",
              "    }\n",
              "  }\n",
              "</style>\n",
              "\n",
              "  <script>\n",
              "    async function quickchart(key) {\n",
              "      const quickchartButtonEl =\n",
              "        document.querySelector('#' + key + ' button');\n",
              "      quickchartButtonEl.disabled = true;  // To prevent multiple clicks.\n",
              "      quickchartButtonEl.classList.add('colab-df-spinner');\n",
              "      try {\n",
              "        const charts = await google.colab.kernel.invokeFunction(\n",
              "            'suggestCharts', [key], {});\n",
              "      } catch (error) {\n",
              "        console.error('Error during call to suggestCharts:', error);\n",
              "      }\n",
              "      quickchartButtonEl.classList.remove('colab-df-spinner');\n",
              "      quickchartButtonEl.classList.add('colab-df-quickchart-complete');\n",
              "    }\n",
              "    (() => {\n",
              "      let quickchartButtonEl =\n",
              "        document.querySelector('#df-e9f08e9a-3785-4a2a-92f0-4d6681d6263d button');\n",
              "      quickchartButtonEl.style.display =\n",
              "        google.colab.kernel.accessAllowed ? 'block' : 'none';\n",
              "    })();\n",
              "  </script>\n",
              "</div>\n",
              "    </div>\n",
              "  </div>\n"
            ]
          },
          "metadata": {},
          "execution_count": 3
        }
      ]
    },
    {
      "cell_type": "code",
      "source": [
        "data.isnull().sum()"
      ],
      "metadata": {
        "colab": {
          "base_uri": "https://localhost:8080/"
        },
        "id": "VnEUwwoKj307",
        "outputId": "83e415de-466a-43ff-d94f-59a20b127452"
      },
      "execution_count": null,
      "outputs": [
        {
          "output_type": "execute_result",
          "data": {
            "text/plain": [
              "Date         0\n",
              "Open         1\n",
              "High         1\n",
              "Low          1\n",
              "Close        1\n",
              "Adj Close    1\n",
              "Volume       1\n",
              "dtype: int64"
            ]
          },
          "metadata": {},
          "execution_count": 4
        }
      ]
    },
    {
      "cell_type": "code",
      "source": [
        "dt = data.dropna()\n",
        "dt.isnull().sum()"
      ],
      "metadata": {
        "colab": {
          "base_uri": "https://localhost:8080/"
        },
        "id": "7hwtKAGjkQ64",
        "outputId": "e5963671-c667-4aa5-d613-04b00d468ee4"
      },
      "execution_count": null,
      "outputs": [
        {
          "output_type": "execute_result",
          "data": {
            "text/plain": [
              "Date         0\n",
              "Open         0\n",
              "High         0\n",
              "Low          0\n",
              "Close        0\n",
              "Adj Close    0\n",
              "Volume       0\n",
              "dtype: int64"
            ]
          },
          "metadata": {},
          "execution_count": 5
        }
      ]
    },
    {
      "cell_type": "markdown",
      "source": [
        "## Preprocessing"
      ],
      "metadata": {
        "id": "cqDrzAzodn-f"
      }
    },
    {
      "cell_type": "code",
      "source": [
        "dt['Data'] = pd.to_datetime(dt['Date'])\n",
        "df = dt.sort_values(\"Date\")\n",
        "df.set_index('Date', inplace=True)\n",
        "select = ['Close']\n",
        "df_select = df[select].copy()\n",
        "df_select['Close'] = df_select['Close'].astype(float)\n",
        "\n",
        "scaler = MinMaxScaler()\n",
        "df_select['Close'] = scaler.fit_transform(df_select[['Close']])"
      ],
      "metadata": {
        "id": "EFH-j7YiNNRK",
        "colab": {
          "base_uri": "https://localhost:8080/"
        },
        "outputId": "dc037c01-8001-4aa4-b257-74aa2c9e3a19"
      },
      "execution_count": null,
      "outputs": [
        {
          "output_type": "stream",
          "name": "stderr",
          "text": [
            "<ipython-input-6-c492045b84c3>:1: SettingWithCopyWarning: \n",
            "A value is trying to be set on a copy of a slice from a DataFrame.\n",
            "Try using .loc[row_indexer,col_indexer] = value instead\n",
            "\n",
            "See the caveats in the documentation: https://pandas.pydata.org/pandas-docs/stable/user_guide/indexing.html#returning-a-view-versus-a-copy\n",
            "  dt['Data'] = pd.to_datetime(dt['Date'])\n"
          ]
        }
      ]
    },
    {
      "cell_type": "code",
      "source": [
        "window_size = 5\n",
        "horizon = 1\n",
        "\n",
        "def create_dataset(dataset, window_size, horizon):\n",
        "    X, Y = [], []\n",
        "    for i in range(len(dataset) - window_size - horizon + 1):\n",
        "        a = dataset[i:(i + window_size), 0]\n",
        "        X.append(a)\n",
        "        Y.append(dataset[i + window_size : i + window_size + horizon, 0])\n",
        "    return np.array(X), np.array(Y)\n"
      ],
      "metadata": {
        "id": "6PiOTlx_gBHS"
      },
      "execution_count": null,
      "outputs": []
    },
    {
      "cell_type": "markdown",
      "source": [
        "# 1. b.\n",
        "Separate data into train, validation and test (80:10:10)"
      ],
      "metadata": {
        "id": "NmAqrX_p_zue"
      }
    },
    {
      "cell_type": "code",
      "source": [
        "total_samples = len(df_select)\n",
        "train_size = int(0.8 * total_samples)\n",
        "val_size = int(0.1 * total_samples)\n",
        "test_size = total_samples - train_size - val_size"
      ],
      "metadata": {
        "id": "1Bh4zQJzopis"
      },
      "execution_count": null,
      "outputs": []
    },
    {
      "cell_type": "code",
      "source": [
        "train = df_select[:train_size]\n",
        "val= df_select[train_size:train_size + val_size]\n",
        "test = df_select[train_size + val_size:]"
      ],
      "metadata": {
        "id": "zPHw3jzRovHQ"
      },
      "execution_count": null,
      "outputs": []
    },
    {
      "cell_type": "code",
      "source": [
        "print(f\"Train shape: {train.shape}\")\n",
        "print(f\"Validation shape: {val.shape}\")\n",
        "print(f\"Test shape: {test.shape}\")"
      ],
      "metadata": {
        "colab": {
          "base_uri": "https://localhost:8080/"
        },
        "id": "5Umvieu2pH9D",
        "outputId": "d2f1544a-2332-4c02-ea45-acddecaec035"
      },
      "execution_count": null,
      "outputs": [
        {
          "output_type": "stream",
          "name": "stdout",
          "text": [
            "Train shape: (3045, 1)\n",
            "Validation shape: (380, 1)\n",
            "Test shape: (382, 1)\n"
          ]
        }
      ]
    },
    {
      "cell_type": "code",
      "source": [
        "print(\"Train data\", train)"
      ],
      "metadata": {
        "colab": {
          "base_uri": "https://localhost:8080/"
        },
        "id": "O_dIx7qHq8po",
        "outputId": "5f7a3101-8ec2-41b8-e4e8-6aae4a49283e"
      },
      "execution_count": null,
      "outputs": [
        {
          "output_type": "stream",
          "name": "stdout",
          "text": [
            "Train data                Close\n",
            "Date                \n",
            "2005-09-29  0.036812\n",
            "2005-09-30  0.043184\n",
            "2005-10-03  0.046370\n",
            "2005-10-04  0.047432\n",
            "2005-10-05  0.049556\n",
            "...              ...\n",
            "2018-01-23  0.129713\n",
            "2018-01-24  0.124656\n",
            "2018-01-25  0.141091\n",
            "2018-01-26  0.143620\n",
            "2018-01-29  0.156263\n",
            "\n",
            "[3045 rows x 1 columns]\n"
          ]
        }
      ]
    },
    {
      "cell_type": "code",
      "source": [
        "train_np = train.values\n",
        "val_np = val.values\n",
        "test_np = test.values\n",
        "\n",
        "X_train, Y_train = create_dataset(train_np, window_size, horizon)\n",
        "X_val, Y_val = create_dataset(val_np, window_size, horizon)\n",
        "X_test, Y_test = create_dataset(test_np, window_size, horizon)\n",
        "\n",
        "X_train = X_train.reshape(X_train.shape[0], X_train.shape[1], 1)\n",
        "X_val = X_val.reshape(X_val.shape[0], X_val.shape[1], 1)\n",
        "X_test = X_test.reshape(X_test.shape[0], X_test.shape[1], 1)"
      ],
      "metadata": {
        "id": "D9UZtm4b2yzK"
      },
      "execution_count": null,
      "outputs": []
    },
    {
      "cell_type": "markdown",
      "source": [
        "# 1. c\n",
        " Create base architecture based on Table 1 (Bidirectional LSTM)"
      ],
      "metadata": {
        "id": "YkgIx2GMAAzs"
      }
    },
    {
      "cell_type": "code",
      "source": [
        "model = Sequential()\n",
        "\n",
        "model.add(Bidirectional(LSTM(units=128, return_sequences=True, activation='relu'), input_shape = (window_size, 1)))\n",
        "\n",
        "model.add(Bidirectional(LSTM(units=64, return_sequences=True, activation='relu')))\n",
        "\n",
        "model.add(Bidirectional(LSTM(units=32, activation='relu')))\n",
        "\n",
        "model.add(Dense(units=1))\n",
        "\n",
        "# Compile the model\n",
        "model.compile(optimizer='adam', loss='mean_squared_error')\n",
        "\n",
        "# Display the model summary\n",
        "model.summary()"
      ],
      "metadata": {
        "colab": {
          "base_uri": "https://localhost:8080/"
        },
        "id": "XuTV-OMjs4cc",
        "outputId": "384e1d48-f963-40ac-8f00-6a587afde3c1"
      },
      "execution_count": null,
      "outputs": [
        {
          "output_type": "stream",
          "name": "stdout",
          "text": [
            "Model: \"sequential\"\n",
            "_________________________________________________________________\n",
            " Layer (type)                Output Shape              Param #   \n",
            "=================================================================\n",
            " bidirectional (Bidirection  (None, 5, 256)            133120    \n",
            " al)                                                             \n",
            "                                                                 \n",
            " bidirectional_1 (Bidirecti  (None, 5, 128)            164352    \n",
            " onal)                                                           \n",
            "                                                                 \n",
            " bidirectional_2 (Bidirecti  (None, 64)                41216     \n",
            " onal)                                                           \n",
            "                                                                 \n",
            " dense (Dense)               (None, 1)                 65        \n",
            "                                                                 \n",
            "=================================================================\n",
            "Total params: 338753 (1.29 MB)\n",
            "Trainable params: 338753 (1.29 MB)\n",
            "Non-trainable params: 0 (0.00 Byte)\n",
            "_________________________________________________________________\n"
          ]
        }
      ]
    },
    {
      "cell_type": "code",
      "source": [
        "history = model.fit(X_train,\n",
        "              Y_train,\n",
        "              epochs = 20,\n",
        "              batch_size = 5,\n",
        "              validation_data = (X_val, Y_val))"
      ],
      "metadata": {
        "colab": {
          "base_uri": "https://localhost:8080/"
        },
        "id": "8YRGbYUjtZfG",
        "outputId": "d2d3840d-1f60-44d4-a914-e1b4a4e8c280"
      },
      "execution_count": null,
      "outputs": [
        {
          "output_type": "stream",
          "name": "stdout",
          "text": [
            "Epoch 1/20\n",
            "608/608 [==============================] - 37s 39ms/step - loss: 0.0030 - val_loss: 9.4751e-05\n",
            "Epoch 2/20\n",
            "608/608 [==============================] - 13s 21ms/step - loss: 5.0185e-04 - val_loss: 6.0168e-05\n",
            "Epoch 3/20\n",
            "608/608 [==============================] - 13s 21ms/step - loss: 5.4234e-04 - val_loss: 6.9140e-05\n",
            "Epoch 4/20\n",
            "608/608 [==============================] - 13s 21ms/step - loss: 4.4561e-04 - val_loss: 6.1248e-05\n",
            "Epoch 5/20\n",
            "608/608 [==============================] - 13s 21ms/step - loss: 4.8009e-04 - val_loss: 6.1568e-05\n",
            "Epoch 6/20\n",
            "608/608 [==============================] - 13s 22ms/step - loss: 4.2294e-04 - val_loss: 6.9116e-05\n",
            "Epoch 7/20\n",
            "608/608 [==============================] - 13s 22ms/step - loss: 3.5831e-04 - val_loss: 9.9826e-05\n",
            "Epoch 8/20\n",
            "608/608 [==============================] - 13s 21ms/step - loss: 4.3878e-04 - val_loss: 5.4328e-05\n",
            "Epoch 9/20\n",
            "608/608 [==============================] - 13s 22ms/step - loss: 4.0010e-04 - val_loss: 1.7183e-04\n",
            "Epoch 10/20\n",
            "608/608 [==============================] - 13s 21ms/step - loss: 4.2511e-04 - val_loss: 8.1546e-05\n",
            "Epoch 11/20\n",
            "608/608 [==============================] - 13s 21ms/step - loss: 3.8183e-04 - val_loss: 6.6398e-05\n",
            "Epoch 12/20\n",
            "608/608 [==============================] - 13s 21ms/step - loss: 3.2419e-04 - val_loss: 4.5841e-05\n",
            "Epoch 13/20\n",
            "608/608 [==============================] - 14s 22ms/step - loss: 3.3834e-04 - val_loss: 4.4141e-05\n",
            "Epoch 14/20\n",
            "608/608 [==============================] - 12s 20ms/step - loss: 3.0548e-04 - val_loss: 4.4196e-05\n",
            "Epoch 15/20\n",
            "608/608 [==============================] - 12s 20ms/step - loss: 3.3041e-04 - val_loss: 4.7315e-05\n",
            "Epoch 16/20\n",
            "608/608 [==============================] - 13s 21ms/step - loss: 3.5931e-04 - val_loss: 6.2809e-05\n",
            "Epoch 17/20\n",
            "608/608 [==============================] - 13s 21ms/step - loss: 3.1598e-04 - val_loss: 5.0095e-05\n",
            "Epoch 18/20\n",
            "608/608 [==============================] - 13s 21ms/step - loss: 2.8204e-04 - val_loss: 5.4618e-05\n",
            "Epoch 19/20\n",
            "608/608 [==============================] - 13s 21ms/step - loss: 2.8284e-04 - val_loss: 1.1498e-04\n",
            "Epoch 20/20\n",
            "608/608 [==============================] - 13s 21ms/step - loss: 2.8141e-04 - val_loss: 7.2708e-05\n"
          ]
        }
      ]
    },
    {
      "cell_type": "code",
      "source": [
        "plt.plot(history.history['loss'], label='Training Loss')\n",
        "plt.plot(history.history['val_loss'], label='Validation Loss')\n",
        "plt.xlabel('Epochs')\n",
        "plt.ylabel('Loss')\n",
        "plt.legend()\n",
        "plt.show()"
      ],
      "metadata": {
        "colab": {
          "base_uri": "https://localhost:8080/",
          "height": 449
        },
        "id": "61xurLvO-anu",
        "outputId": "c7e00080-a710-4746-a77a-c52bf2c75563"
      },
      "execution_count": null,
      "outputs": [
        {
          "output_type": "display_data",
          "data": {
            "text/plain": [
              "<Figure size 640x480 with 1 Axes>"
            ],
            "image/png": "[encoded data removed]"
          },
          "metadata": {}
        }
      ]
    },
    {
      "cell_type": "markdown",
      "source": [
        "# 1. d\n",
        " Adding Sequential Self-Attention Mechanism and explain how the sequential self-attention mechanism works.\n"
      ],
      "metadata": {
        "id": "CbKCFbnEAZPw"
      }
    },
    {
      "cell_type": "code",
      "source": [
        "!pip install keras-self-attention"
      ],
      "metadata": {
        "colab": {
          "base_uri": "https://localhost:8080/"
        },
        "id": "hkUzV7Z9AJ4N",
        "outputId": "4da3b215-fda6-4080-8e94-d9bc9c98948a"
      },
      "execution_count": null,
      "outputs": [
        {
          "output_type": "stream",
          "name": "stdout",
          "text": [
            "Collecting keras-self-attention\n",
            "  Downloading keras-self-attention-0.51.0.tar.gz (11 kB)\n",
            "  Preparing metadata (setup.py) ... \u001b[?25l\u001b[?25hdone\n",
            "Requirement already satisfied: numpy in /usr/local/lib/python3.10/dist-packages (from keras-self-attention) (1.23.5)\n",
            "Building wheels for collected packages: keras-self-attention\n",
            "  Building wheel for keras-self-attention (setup.py) ... \u001b[?25l\u001b[?25hdone\n",
            "  Created wheel for keras-self-attention: filename=keras_self_attention-0.51.0-py3-none-any.whl size=18895 sha256=837deb56f7e366779eddcee427fa236d56c0b2b4e3a4ca6f33177e99eb7890c6\n",
            "  Stored in directory: /root/.cache/pip/wheels/b8/f7/24/607b483144fb9c47b4ba2c5fba6b68e54aeee2d5bf6c05302e\n",
            "Successfully built keras-self-attention\n",
            "Installing collected packages: keras-self-attention\n",
            "Successfully installed keras-self-attention-0.51.0\n"
          ]
        }
      ]
    },
    {
      "cell_type": "code",
      "source": [
        "from keras_self_attention import SeqSelfAttention"
      ],
      "metadata": {
        "id": "95TXgEH1AwOE"
      },
      "execution_count": null,
      "outputs": []
    },
    {
      "cell_type": "code",
      "source": [
        "model2 = Sequential()\n",
        "\n",
        "model2.add(Bidirectional(LSTM(units=128, return_sequences=True, activation='relu'), input_shape = (window_size, 1)))\n",
        "\n",
        "model2.add(Bidirectional(LSTM(units=64, return_sequences=True, activation='relu')))\n",
        "\n",
        "model2.add(SeqSelfAttention(attention_activation='relu'))\n",
        "\n",
        "model2.add(Bidirectional(LSTM(units=32,  activation='relu')))\n",
        "\n",
        "model2.add(Dense(units=1))\n",
        "\n",
        "# Compile the model\n",
        "model2.compile(optimizer='adam', loss='mean_squared_error')\n",
        "\n",
        "# Display the model summary\n",
        "model.summary()"
      ],
      "metadata": {
        "colab": {
          "base_uri": "https://localhost:8080/"
        },
        "id": "XfPKDRG4AxKs",
        "outputId": "8bc8242e-9118-4037-aeac-74f2d76623ac"
      },
      "execution_count": null,
      "outputs": [
        {
          "output_type": "stream",
          "name": "stderr",
          "text": [
            "/usr/local/lib/python3.10/dist-packages/keras/src/initializers/initializers.py:120: UserWarning: The initializer GlorotNormal is unseeded and being called multiple times, which will return identical values each time (even if the initializer is unseeded). Please update your code to provide a seed to the initializer, or avoid using the same initializer instance more than once.\n",
            "  warnings.warn(\n"
          ]
        },
        {
          "output_type": "stream",
          "name": "stdout",
          "text": [
            "Model: \"sequential\"\n",
            "_________________________________________________________________\n",
            " Layer (type)                Output Shape              Param #   \n",
            "=================================================================\n",
            " bidirectional (Bidirection  (None, 5, 256)            133120    \n",
            " al)                                                             \n",
            "                                                                 \n",
            " bidirectional_1 (Bidirecti  (None, 5, 128)            164352    \n",
            " onal)                                                           \n",
            "                                                                 \n",
            " bidirectional_2 (Bidirecti  (None, 64)                41216     \n",
            " onal)                                                           \n",
            "                                                                 \n",
            " dense (Dense)               (None, 1)                 65        \n",
            "                                                                 \n",
            "=================================================================\n",
            "Total params: 338753 (1.29 MB)\n",
            "Trainable params: 338753 (1.29 MB)\n",
            "Non-trainable params: 0 (0.00 Byte)\n",
            "_________________________________________________________________\n"
          ]
        }
      ]
    },
    {
      "cell_type": "code",
      "source": [
        "history2 = model2.fit(X_train,\n",
        "              Y_train,\n",
        "              epochs = 20,\n",
        "              batch_size = 5,\n",
        "              validation_data = (X_val, Y_val))"
      ],
      "metadata": {
        "colab": {
          "base_uri": "https://localhost:8080/"
        },
        "id": "6VZ8HI8fCGiM",
        "outputId": "aeedc2ca-cc32-4f55-edd6-88783bb49dbf"
      },
      "execution_count": null,
      "outputs": [
        {
          "output_type": "stream",
          "name": "stdout",
          "text": [
            "Epoch 1/20\n",
            "608/608 [==============================] - 39s 43ms/step - loss: 0.0026 - val_loss: 1.5731e-04\n",
            "Epoch 2/20\n",
            "608/608 [==============================] - 13s 22ms/step - loss: 4.7473e-04 - val_loss: 8.6804e-05\n",
            "Epoch 3/20\n",
            "608/608 [==============================] - 13s 22ms/step - loss: 5.5012e-04 - val_loss: 1.1032e-04\n",
            "Epoch 4/20\n",
            "608/608 [==============================] - 14s 22ms/step - loss: 4.3455e-04 - val_loss: 5.2131e-05\n",
            "Epoch 5/20\n",
            "608/608 [==============================] - 14s 22ms/step - loss: 4.7703e-04 - val_loss: 5.6093e-05\n",
            "Epoch 6/20\n",
            "608/608 [==============================] - 14s 22ms/step - loss: 4.1008e-04 - val_loss: 6.3354e-05\n",
            "Epoch 7/20\n",
            "608/608 [==============================] - 14s 23ms/step - loss: 3.7092e-04 - val_loss: 6.2491e-05\n",
            "Epoch 8/20\n",
            "608/608 [==============================] - 13s 22ms/step - loss: 3.6641e-04 - val_loss: 7.1610e-05\n",
            "Epoch 9/20\n",
            "608/608 [==============================] - 13s 22ms/step - loss: 3.5340e-04 - val_loss: 9.0144e-05\n",
            "Epoch 10/20\n",
            "608/608 [==============================] - 15s 24ms/step - loss: 3.9399e-04 - val_loss: 5.3691e-05\n",
            "Epoch 11/20\n",
            "608/608 [==============================] - 13s 22ms/step - loss: 3.0372e-04 - val_loss: 9.5055e-05\n",
            "Epoch 12/20\n",
            "608/608 [==============================] - 13s 22ms/step - loss: 3.1064e-04 - val_loss: 4.5017e-05\n",
            "Epoch 13/20\n",
            "608/608 [==============================] - 13s 22ms/step - loss: 2.8211e-04 - val_loss: 8.8670e-05\n",
            "Epoch 14/20\n",
            "608/608 [==============================] - 13s 21ms/step - loss: 2.8053e-04 - val_loss: 4.2252e-05\n",
            "Epoch 15/20\n",
            "608/608 [==============================] - 13s 21ms/step - loss: 3.1136e-04 - val_loss: 7.0518e-04\n",
            "Epoch 16/20\n",
            "608/608 [==============================] - 13s 22ms/step - loss: 2.6336e-04 - val_loss: 5.5198e-05\n",
            "Epoch 17/20\n",
            "608/608 [==============================] - 13s 22ms/step - loss: 2.8424e-04 - val_loss: 8.0366e-05\n",
            "Epoch 18/20\n",
            "608/608 [==============================] - 13s 22ms/step - loss: 3.0758e-04 - val_loss: 5.1937e-05\n",
            "Epoch 19/20\n",
            "608/608 [==============================] - 13s 22ms/step - loss: 2.8167e-04 - val_loss: 7.0998e-05\n",
            "Epoch 20/20\n",
            "608/608 [==============================] - 13s 22ms/step - loss: 2.6073e-04 - val_loss: 6.1574e-05\n"
          ]
        }
      ]
    },
    {
      "cell_type": "code",
      "source": [
        "plt.plot(history2.history['loss'], label='Training Loss')\n",
        "plt.plot(history2.history['val_loss'], label='Validation Loss')\n",
        "plt.xlabel('Epochs')\n",
        "plt.ylabel('Loss')\n",
        "plt.legend()\n",
        "plt.show()"
      ],
      "metadata": {
        "colab": {
          "base_uri": "https://localhost:8080/",
          "height": 449
        },
        "id": "dwbOdGkcCXgT",
        "outputId": "bf5cdc56-9bcc-490f-db9e-f6510dc6d38f"
      },
      "execution_count": null,
      "outputs": [
        {
          "output_type": "display_data",
          "data": {
            "text/plain": [
              "<Figure size 640x480 with 1 Axes>"
            ],
            "image/png": "[encoded data removed]"
          },
          "metadata": {}
        }
      ]
    },
    {
      "cell_type": "markdown",
      "source": [
        "> Mekanisme sequential self-attention bekerja dengan menangkap hubungan antara posisi yang berbeda dalam sebuah sequence untuk menghitung representasi yang lebih baik dari sequence tersebut. Mekanisme ini memungkinkan model untuk menimbang bagian dari sequence untuk kepentingan fitur relatif, sehingga meningkatkan representasi sequence. Dalam Bidirectional LSTM, mekanisme sequential self-attention bekerja dengan memberikan bobot ke bagian yang berbeda dari input sequence berdasarkan relevansinya dengan output saat ini, dengan mempertimbangkan arah maju dan mundur dari sequence tersebut.\n",
        "\n",
        "> Mekanisme sequential self-attention dalam layer Bidirectional LSTM bekerja dengan memproyeksikan data input menggunakan proyeksi linier yang berbeda yang dipelajari dari data yang sama, dan kemudian menerapkan mekanisme perhatian pada masing-masingnya secara bersamaan. Hal ini menghasilkan matriks berbobot yang menyimpan informasi masa lalu dan masa depan yang lebih relevan secara bersamaan, sehingga memungkinkan model untuk menangkap ketergantungan temporal dalam data dengan lebih baik.\n",
        "\n",
        "\n",
        "Referensi : Rendón-Segador, F. J., Álvarez-García, J. A., Enríquez, F., & Deniz, O. (2021). Violencenet: Dense multi-head self-attention with bidirectional convolutional lstm for detecting violence. Electronics, 10(13), 1601. Diakses dari : https://www.mdpi.com/2079-9292/10/13/1601\n",
        "\n"
      ],
      "metadata": {
        "id": "XnLXYwbRNfgB"
      }
    },
    {
      "cell_type": "markdown",
      "source": [
        "# 1. e\n",
        "Please proceed to evaluate the architecture outlined above on the test set, utilizing evaluation metrics that are congruent with the architecture specified in number 1c and 1d. Include a justification for the choice of these evaluation metrics. Subsequently, provide a detailed explanation of the results obtained."
      ],
      "metadata": {
        "id": "EgRS2Jb7FIwl"
      }
    },
    {
      "cell_type": "code",
      "source": [
        "y_pred = model.predict(X_test)"
      ],
      "metadata": {
        "colab": {
          "base_uri": "https://localhost:8080/"
        },
        "id": "rU2HX1M8gQBZ",
        "outputId": "ca17834a-cad1-401b-c8c2-f3a36fe1c8e5"
      },
      "execution_count": null,
      "outputs": [
        {
          "output_type": "stream",
          "name": "stdout",
          "text": [
            "12/12 [==============================] - 1s 11ms/step\n"
          ]
        }
      ]
    },
    {
      "cell_type": "code",
      "source": [
        "mse = mean_squared_error(Y_test, y_pred)\n",
        "mae = mean_absolute_error(Y_test, y_pred)\n",
        "r2 = r2_score(Y_test, y_pred)\n",
        "\n",
        "print(\"Base Bidirectional LMST Model Metrics:\")\n",
        "print(\"Mean Squared Error (MSE) :\", mse)\n",
        "print(\"Mean Absolute Error (MAE) :\", mae)\n",
        "print(\"R-squared (R2) :\", r2)"
      ],
      "metadata": {
        "colab": {
          "base_uri": "https://localhost:8080/"
        },
        "id": "mrKh359FGJlK",
        "outputId": "539ba9ec-e7a6-49b9-ae3e-502d063338c0"
      },
      "execution_count": null,
      "outputs": [
        {
          "output_type": "stream",
          "name": "stdout",
          "text": [
            "Base Bidirectional LMST Model Metrics:\n",
            "Mean Squared Error (MSE) : 0.00040419744048652396\n",
            "Mean Absolute Error (MAE) : 0.011607738632101029\n",
            "R-squared (R2) : 0.9767733362162128\n"
          ]
        }
      ]
    },
    {
      "cell_type": "code",
      "source": [
        "y_pred2 = model2.predict(X_test)"
      ],
      "metadata": {
        "colab": {
          "base_uri": "https://localhost:8080/"
        },
        "id": "jdsoHAAzGL16",
        "outputId": "080d4a18-017b-4820-b12a-2d6bebc90463"
      },
      "execution_count": null,
      "outputs": [
        {
          "output_type": "stream",
          "name": "stdout",
          "text": [
            "12/12 [==============================] - 1s 13ms/step\n"
          ]
        }
      ]
    },
    {
      "cell_type": "code",
      "source": [
        "mse2 = mean_squared_error(Y_test, y_pred2)\n",
        "mae2 = mean_absolute_error(Y_test, y_pred2)\n",
        "r2_2 = r2_score(Y_test, y_pred2)\n",
        "\n",
        "print(\"\\nBidirectional LMST Model with Sequential Self-Attention Metrics:\")\n",
        "print(\"Mean Squared Error (MSE):\", mse2)\n",
        "print(\"Mean Absolute Error (MAE):\", mae2)\n",
        "print(\"R-squared (R2):\", r2_2)"
      ],
      "metadata": {
        "colab": {
          "base_uri": "https://localhost:8080/"
        },
        "id": "qtDeUhrAhIzV",
        "outputId": "0d0e188f-db1c-4afb-ce94-dce55b36a6b0"
      },
      "execution_count": null,
      "outputs": [
        {
          "output_type": "stream",
          "name": "stdout",
          "text": [
            "\n",
            "Bidirectional LMST Model with Sequential Self-Attention Metrics:\n",
            "Mean Squared Error (MSE): 0.0003752046532463506\n",
            "Mean Absolute Error (MAE): 0.011341864155866953\n",
            "R-squared (R2): 0.9784393678481098\n"
          ]
        }
      ]
    },
    {
      "cell_type": "markdown",
      "source": [
        "Metriks evaluasi model pada data *time series* yang sering digunakan yaitu MSE, MAE, dan R2.\n",
        "- *Mean Square Error* merupakan rata-rata dari selisih kuadrat antara nilai prediksi dengan nilai aktual. MSE digunakan untuk mengukur seberapa besar rata-rata kesalahan prediksi dari nilai aktual. Semakin rendah hasil MSE maka semakin baik model dengan prediksinya\n",
        "- *Mean Absolute Error* merupakan nilai rata-rata perbedaan antara nilai aktual dengan nilai prediksi model. MAE digunakan untuk mengukur keakuratan suatu model dalam melakukan prediksi. Hasil MAE yang kecil menunjukkan bahwa model baik dalam prediksi, sedangkan hasil MAE yang besar menunjukkan model mengalami masalah dalam memprediksi\n",
        "- R-squared merupakan ukuran statistik yang menunjukkan seberapa besar variasi suatu variabel dependen dapat dijelaskan oleh variabel independen dalam suatu model. R2 biasanya digunakan untuk mengidentifikasi akurasi pada model. Jika R2 mendekati nilai 1 maka semakin baik modelnya. Namun, jika R2 sama dengan 0, maka model tidak berkinerja dengan baik.\n",
        "\n",
        "Berdasarkan hasil evaluasi metriks diatas dapat disimpulkan bahwa model 1d atau model bidirectional LSTM yang menggunakan sequential self-attention lebih baik daripada model bidirectional LSTM biasa.\n",
        "\n",
        "Referensi : Faiqoh, H. Penerapan Ensemble Feature Selection Untuk Mengurangi Dimensionalitas dalam Prediksi data Time Series (Bachelor's thesis, Fakultas Sains dan Teknologi UIN Syarif Hidayatullah Jakarta). Diakses dari : https://repository.uinjkt.ac.id/dspace/handle/123456789/67099"
      ],
      "metadata": {
        "id": "0h3xbrkmNNCw"
      }
    },
    {
      "cell_type": "markdown",
      "source": [
        "# 1. f\n",
        "Create a line chart that displays a comparison between the prediction results from models 1d and 1c, and the actual values"
      ],
      "metadata": {
        "id": "agkw_YIEFdmB"
      }
    },
    {
      "cell_type": "code",
      "source": [
        "# Predictions from model1 (1c)\n",
        "predictions_model = model.predict(X_test)\n",
        "\n",
        "# Predictions from model2 (1d)\n",
        "predictions_model2 = model2.predict(X_test)\n",
        "\n",
        "# Actual values\n",
        "actual_values = Y_test\n",
        "\n",
        "print(\"Shapes - Actual Values:\", actual_values.shape, \"Predictions Model 1:\", predictions_model.shape, \"Predictions Model 2:\", predictions_model2.shape)\n"
      ],
      "metadata": {
        "colab": {
          "base_uri": "https://localhost:8080/"
        },
        "id": "s219CtTGHLxv",
        "outputId": "8ce1bfa8-0e66-4588-872a-0e54e4f57933"
      },
      "execution_count": null,
      "outputs": [
        {
          "output_type": "stream",
          "name": "stdout",
          "text": [
            "12/12 [==============================] - 0s 11ms/step\n",
            "12/12 [==============================] - 0s 11ms/step\n",
            "Shapes - Actual Values: (377, 1) Predictions Model 1: (377, 1) Predictions Model 2: (377, 1)\n"
          ]
        }
      ]
    },
    {
      "cell_type": "code",
      "source": [
        "predictions_model_flat = predictions_model.flatten()\n",
        "predictions_model2_flat = predictions_model2.flatten()\n",
        "\n",
        "plt.figure(figsize=(14, 6))\n",
        "\n",
        "plt.plot(actual_values, label='Actual Values', color='purple')\n",
        "\n",
        "# Plotting predictions from model (1c)\n",
        "plt.plot(predictions_model_flat, label='Predictions - Model 1c', color='skyblue', linestyle='--')\n",
        "\n",
        "# Plotting predictions from model2 (1d)\n",
        "plt.plot(predictions_model2_flat, label='Predictions - Model 1d', color='lightcoral', linestyle='--')\n",
        "\n",
        "plt.title('Comparison of Predictions and Actual Values')\n",
        "plt.xlabel('Time Steps')\n",
        "plt.ylabel('Stock Closing Price')\n",
        "plt.legend()\n",
        "plt.show()"
      ],
      "metadata": {
        "colab": {
          "base_uri": "https://localhost:8080/",
          "height": 564
        },
        "id": "Vm6DJG1rMEKG",
        "outputId": "5e0a274c-7786-4cb8-b189-051e3cf8b8b0"
      },
      "execution_count": null,
      "outputs": [
        {
          "output_type": "display_data",
          "data": {
            "text/plain": [
              "<Figure size 1400x600 with 1 Axes>"
            ],
            "image/png": "[encoded data removed]"
          },
          "metadata": {}
        }
      ]
    },
    {
      "cell_type": "markdown",
      "source": [
        "Berdasarkan hasil grafik diatas dapat diketahui bahwa kedua model telah memprediksi dengan tepat hampir semua nilai target sebenarnya (actual value). Namun, model pada 1c di akhir grafik sedikit menjauhi nilai sebenarnya (actual value)."
      ],
      "metadata": {
        "id": "yEpL8owqOaKr"
      }
    }
  ]
}